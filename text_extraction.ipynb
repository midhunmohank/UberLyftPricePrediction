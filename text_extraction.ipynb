{
 "cells": [
  {
   "cell_type": "code",
   "execution_count": null,
   "metadata": {},
   "outputs": [],
   "source": [
    "import nbformat\n",
    "from nbconvert import MarkdownExporter\n",
    "\n",
    "# Load the ipynb file\n",
    "with open(\"Uber and Lyft price prediction -INFO7390.ipynb\", \"r\") as f:\n",
    "    nb = nbformat.read(f, as_version=4)\n",
    "\n",
    "# Create a MarkdownExporter instance\n",
    "exporter = MarkdownExporter()\n",
    "\n",
    "# Extract the markdown text\n",
    "(output, resources) = exporter.from_notebook_node(nb)\n",
    "\n",
    "# Write the markdown text to a file\n",
    "with open(\"output.md\", \"w\") as f:\n",
    "    f.write(output)"
   ]
  },
  {
   "cell_type": "code",
   "execution_count": null,
   "metadata": {},
   "outputs": [],
   "source": []
  }
 ],
 "metadata": {
  "language_info": {
   "name": "python"
  },
  "orig_nbformat": 4
 },
 "nbformat": 4,
 "nbformat_minor": 2
}
